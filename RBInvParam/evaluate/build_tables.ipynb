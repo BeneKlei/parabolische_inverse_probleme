{
 "cells": [
  {
   "cell_type": "code",
   "execution_count": 1,
   "metadata": {},
   "outputs": [],
   "source": [
    "import numpy as np\n",
    "from pathlib import Path\n",
    "\n",
    "from pymor.basic import *\n",
    "from pymor.core.pickle import load\n",
    "\n",
    "from RBInvParam.problems.problems import build_InstationaryModelIP\n",
    "\n",
    "set_log_levels({\n",
    "    'pymor' : 'WARN'\n",
    "})\n",
    "\n",
    "set_defaults({})\n"
   ]
  },
  {
   "cell_type": "code",
   "execution_count": 2,
   "metadata": {},
   "outputs": [],
   "source": [
    "import matplotlib as mpl\n",
    "import matplotlib.pyplot as plt\n",
    "\n",
    "plt.rcParams.update({\n",
    "    \"text.usetex\": True,\n",
    "    \"font.family\": \"cm\",\n",
    "    \"font.size\": 10,\n",
    "    'text.latex.preamble': r'\\usepackage{amsfonts} \\usepackage{accents} \\usepackage{mathrsfs}',\n",
    "    'figure.dpi': 400\n",
    "})"
   ]
  },
  {
   "cell_type": "code",
   "execution_count": 3,
   "metadata": {
    "scrolled": true
   },
   "outputs": [
    {
     "name": "stdout",
     "output_type": "stream",
     "text": [
      "\u001b[94m[2025-02-26 15:37:01,735][__init__] - Setting up InstationaryModelIP\u001b[0m\n"
     ]
    },
    {
     "data": {
      "application/vnd.jupyter.widget-view+json": {
       "model_id": "8f54e5381c0f4422942c87012483a770",
       "version_major": 2,
       "version_minor": 0
      },
      "text/plain": [
       "Accordion(children=(HTML(value='', layout=Layout(height='16em', width='100%')),), titles=('Log Output',))"
      ]
     },
     "metadata": {},
     "output_type": "display_data"
    },
    {
     "name": "stdout",
     "output_type": "stream",
     "text": [
      "\u001b[94m[2025-02-26 15:37:48,602][discretize_instationary_IP] - noise percentage is 7.0703e-08\u001b[0m\n",
      "\u001b[94m[2025-02-26 15:37:48,603][discretize_instationary_IP] - noise_level is 1.0000e-05\u001b[0m\n",
      "\u001b[94m[2025-02-26 15:37:48,748][__init__] - Setting up InstationaryModelIP\u001b[0m\n"
     ]
    }
   ],
   "source": [
    "WORK_DIR = Path('/run/media/benedikt/38E84473425D444F/Dokumente/Studium/Mathematik/PhD/parabolische_inverse_probleme')\n",
    "#WORK_DIR = Path('/home/benedikt/Dokumente/parabolische_inverse_probleme')\n",
    "data_dir_path = WORK_DIR / Path('experiments/initial_testing_timedep')\n",
    "\n",
    "FOM_data_path = data_dir_path / 'diffusion_FOM_300'\n",
    "TR_data_path = data_dir_path / 'diffusion_TR_300'\n",
    "\n",
    "setup_path = FOM_data_path / 'setup.pkl'\n",
    "optimizer_parameter_path = FOM_data_path / 'optimizer_parameter.pkl'\n",
    "\n",
    "\n",
    "with open(setup_path, 'rb') as file:\n",
    "    setup = load(file)\n",
    "\n",
    "with open(optimizer_parameter_path, 'rb') as file:\n",
    "    optimizer_parameter = load(file)\n",
    "\n",
    "if not 'FOM' in locals():\n",
    "    FOM, grid_data = build_InstationaryModelIP(setup=setup)\n",
    "\n",
    "    \n",
    "\n",
    "data = {}\n",
    "\n",
    "if FOM_data_path:\n",
    "    with open(FOM_data_path / 'FOM_IRGNM_final.pkl', 'rb') as file:\n",
    "        FOM_data = load(file)\n",
    "    data['FOM'] = FOM_data\n",
    "\n",
    "if TR_data_path:\n",
    "    with open(TR_data_path / 'TR_IRGNM_final.pkl', 'rb') as file:\n",
    "        TR_data = load(file)\n",
    "    data['TR'] = TR_data\n",
    "    \n"
   ]
  },
  {
   "cell_type": "code",
   "execution_count": 4,
   "metadata": {},
   "outputs": [
    {
     "name": "stderr",
     "output_type": "stream",
     "text": [
      "/tmp/ipykernel_28233/1463758337.py:25: FutureWarning: ChainedAssignmentError: behaviour will change in pandas 3.0!\n",
      "You are setting values through chained assignment. Currently this works in certain cases, but when using Copy-on-Write (which will become the default behaviour in pandas 3.0) this will never work to update the original DataFrame or Series, because the intermediate object on which we are setting values will behave as a copy.\n",
      "A typical example is when you are setting values in a column of a DataFrame, like:\n",
      "\n",
      "df[\"col\"][row_indexer] = value\n",
      "\n",
      "Use `df.loc[row_indexer, \"col\"] = values` instead, to perform the assignment in a single step and ensure this keeps updating the original `df`.\n",
      "\n",
      "See the caveats in the documentation: https://pandas.pydata.org/pandas-docs/stable/user_guide/indexing.html#returning-a-view-versus-a-copy\n",
      "\n",
      "  df['speed up'][1] = df['time [s]'][0] / df['time [s]'][1]\n",
      "/tmp/ipykernel_28233/1463758337.py:25: SettingWithCopyWarning: \n",
      "A value is trying to be set on a copy of a slice from a DataFrame\n",
      "\n",
      "See the caveats in the documentation: https://pandas.pydata.org/pandas-docs/stable/user_guide/indexing.html#returning-a-view-versus-a-copy\n",
      "  df['speed up'][1] = df['time [s]'][0] / df['time [s]'][1]\n"
     ]
    }
   ],
   "source": [
    "import pandas as pd\n",
    "\n",
    "columns = ['Algorithm', 'time [s]', 'speed up', 'FOM solves', r'$n_Q$', 'o. iter']\n",
    "\n",
    "rows = []\n",
    "algo = 'FOM'\n",
    "row = [algo,\n",
    "       int(data[algo]['total_runtime'][-1]),\n",
    "       '--',\n",
    "       '??',\n",
    "       '--',\n",
    "       len(data[algo]['J'])-1]\n",
    "rows.append(row)\n",
    "\n",
    "algo = 'TR'\n",
    "row = [algo,\n",
    "       int(data[algo]['total_runtime'][-1]),\n",
    "       '--',\n",
    "       '??',\n",
    "       '??',\n",
    "       len(data[algo]['J'])-1]\n",
    "rows.append(row)\n",
    "\n",
    "df = pd.DataFrame.from_records(rows, columns=columns)\n",
    "df['speed up'][1] = df['time [s]'][0] / df['time [s]'][1]"
   ]
  },
  {
   "cell_type": "code",
   "execution_count": 5,
   "metadata": {},
   "outputs": [
    {
     "data": {
      "text/html": [
       "<div>\n",
       "<style scoped>\n",
       "    .dataframe tbody tr th:only-of-type {\n",
       "        vertical-align: middle;\n",
       "    }\n",
       "\n",
       "    .dataframe tbody tr th {\n",
       "        vertical-align: top;\n",
       "    }\n",
       "\n",
       "    .dataframe thead th {\n",
       "        text-align: right;\n",
       "    }\n",
       "</style>\n",
       "<table border=\"1\" class=\"dataframe\">\n",
       "  <thead>\n",
       "    <tr style=\"text-align: right;\">\n",
       "      <th></th>\n",
       "      <th>Algorithm</th>\n",
       "      <th>time [s]</th>\n",
       "      <th>speed up</th>\n",
       "      <th>FOM solves</th>\n",
       "      <th>$n_Q$</th>\n",
       "      <th>o. iter</th>\n",
       "    </tr>\n",
       "  </thead>\n",
       "  <tbody>\n",
       "    <tr>\n",
       "      <th>0</th>\n",
       "      <td>FOM</td>\n",
       "      <td>217941</td>\n",
       "      <td>--</td>\n",
       "      <td>??</td>\n",
       "      <td>??</td>\n",
       "      <td>24</td>\n",
       "    </tr>\n",
       "    <tr>\n",
       "      <th>1</th>\n",
       "      <td>TR</td>\n",
       "      <td>11403</td>\n",
       "      <td>19.112602</td>\n",
       "      <td>??</td>\n",
       "      <td>??</td>\n",
       "      <td>7</td>\n",
       "    </tr>\n",
       "  </tbody>\n",
       "</table>\n",
       "</div>"
      ],
      "text/plain": [
       "  Algorithm  time [s]   speed up FOM solves $n_Q$  o. iter\n",
       "0       FOM    217941         --         ??    ??       24\n",
       "1        TR     11403  19.112602         ??    ??        7"
      ]
     },
     "execution_count": 5,
     "metadata": {},
     "output_type": "execute_result"
    }
   ],
   "source": [
    "df"
   ]
  },
  {
   "cell_type": "code",
   "execution_count": 6,
   "metadata": {},
   "outputs": [
    {
     "name": "stdout",
     "output_type": "stream",
     "text": [
      "\\begin{tabular}{l|ccccc}\n",
      "\\toprule\n",
      "Algorithm & time [s] & speed up & FOM solves & $n_Q$ & o. iter \\\\\n",
      "\\midrule\n",
      "FOM & 217941 & -- & ?? & ?? & 24 \\\\\n",
      "TR & 11403 & 19.11 & ?? & ?? & 7 \\\\\n",
      "\\bottomrule\n",
      "\\end{tabular}\n",
      "\n"
     ]
    }
   ],
   "source": [
    "print(df.to_latex(index=False, float_format=\"{:.2f}\".format, column_format='l|ccccc'))"
   ]
  },
  {
   "cell_type": "code",
   "execution_count": null,
   "metadata": {},
   "outputs": [],
   "source": []
  }
 ],
 "metadata": {
  "kernelspec": {
   "display_name": "Python 3 (ipykernel)",
   "language": "python",
   "name": "python3"
  },
  "language_info": {
   "codemirror_mode": {
    "name": "ipython",
    "version": 3
   },
   "file_extension": ".py",
   "mimetype": "text/x-python",
   "name": "python",
   "nbconvert_exporter": "python",
   "pygments_lexer": "ipython3",
   "version": "3.9.21"
  }
 },
 "nbformat": 4,
 "nbformat_minor": 4
}
