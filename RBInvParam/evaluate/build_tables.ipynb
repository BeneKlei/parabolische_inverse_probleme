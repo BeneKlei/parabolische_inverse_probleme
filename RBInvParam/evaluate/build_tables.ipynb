{
 "cells": [
  {
   "cell_type": "code",
   "execution_count": 1,
   "id": "9c27dbc7-68bc-450a-8bc4-aa77a8f5348d",
   "metadata": {},
   "outputs": [],
   "source": [
    "import numpy as np\n",
    "from pathlib import Path\n",
    "\n",
    "from pymor.basic import *\n",
    "from pymor.core.pickle import load\n",
    "\n",
    "from RBInvParam.problems.problems import build_InstationaryModelIP\n",
    "\n",
    "set_log_levels({\n",
    "    'pymor' : 'WARN'\n",
    "})\n",
    "\n",
    "set_defaults({})\n"
   ]
  },
  {
   "cell_type": "code",
   "execution_count": 2,
   "id": "6a96b15a-21d3-4d8a-bae9-5399bfc545bc",
   "metadata": {},
   "outputs": [],
   "source": [
    "import matplotlib as mpl\n",
    "import matplotlib.pyplot as plt\n",
    "\n",
    "plt.rcParams.update({\n",
    "    \"text.usetex\": True,\n",
    "    \"font.family\": \"cm\",\n",
    "    \"font.size\": 10,\n",
    "    'text.latex.preamble': r'\\usepackage{amsfonts} \\usepackage{accents} \\usepackage{mathrsfs}',\n",
    "    'figure.dpi': 400\n",
    "})"
   ]
  },
  {
   "cell_type": "code",
   "execution_count": 3,
   "id": "ede8145e-df0d-4b3b-92e6-3a27440a1485",
   "metadata": {},
   "outputs": [
    {
     "name": "stdout",
     "output_type": "stream",
     "text": [
      "\u001b[94m[2025-03-14 14:21:24,866][__init__] - Setting up InstationaryModelIP\u001b[0m\n",
      "\u001b[94m[2025-03-14 14:22:20,118][discretize_instationary_IP] - noise percentage is 7.0703e-08\u001b[0m\n",
      "\u001b[94m[2025-03-14 14:22:20,125][discretize_instationary_IP] - noise_level is 1.0000e-05\u001b[0m\n",
      "\u001b[94m[2025-03-14 14:22:20,282][__init__] - Setting up InstationaryModelIP\u001b[0m\n"
     ]
    }
   ],
   "source": [
    "WORK_DIR = Path('/run/media/benedikt/38E84473425D444F/Dokumente/Studium/Mathematik/PhD/parabolische_inverse_probleme')\n",
    "#WORK_DIR = Path('/home/benedikt/Dokumente/parabolische_inverse_probleme')\n",
    "#data_dir_path = WORK_DIR / Path('experiments/corrected_norm_non_timedep')\n",
    "data_dir_path = WORK_DIR / Path('experiments/corrected_norm_full_timedep')\n",
    "\n",
    "FOM_data_path = data_dir_path / 'diffusion_FOM_300'\n",
    "TR_data_path = data_dir_path / 'diffusion_TR_300'\n",
    "\n",
    "setup_path = FOM_data_path / 'setup.pkl'\n",
    "optimizer_parameter_path = FOM_data_path / 'optimizer_parameter.pkl'\n",
    "\n",
    "\n",
    "with open(setup_path, 'rb') as file:\n",
    "    setup = load(file)\n",
    "\n",
    "with open(optimizer_parameter_path, 'rb') as file:\n",
    "    optimizer_parameter = load(file)\n",
    "\n",
    "if not 'FOM' in locals():\n",
    "    FOM, grid_data, assembled_products = build_InstationaryModelIP(setup=setup)\n",
    "\n",
    "    \n",
    "\n",
    "data = {}\n",
    "\n",
    "if FOM_data_path:\n",
    "    #with open(FOM_data_path / 'FOM_IRGNM_final.pkl', 'rb') as file:\n",
    "    with open(FOM_data_path / 'FOM_IRGNM_5.pkl', 'rb') as file:\n",
    "        FOM_data = load(file)\n",
    "    data['FOM'] = FOM_data\n",
    "\n",
    "if TR_data_path:\n",
    "    with open(TR_data_path / 'TR_IRGNM_final.pkl', 'rb') as file:\n",
    "        TR_data = load(file)\n",
    "    data['TR'] = TR_data\n",
    "    \n"
   ]
  },
  {
   "cell_type": "code",
   "execution_count": 4,
   "id": "685ef653-2e46-4fc1-8678-08b1d9d1551b",
   "metadata": {},
   "outputs": [
    {
     "data": {
      "text/plain": [
       "{'solve_state': 12,\n",
       " 'solve_adjoint': 12,\n",
       " 'solve_linearized_state': 0,\n",
       " 'solve_linearized_adjoint': 0,\n",
       " 'objective': 12,\n",
       " 'gradient': 12,\n",
       " 'linearized_objective': 0,\n",
       " 'linearized_gradient': 0}"
      ]
     },
     "execution_count": 4,
     "metadata": {},
     "output_type": "execute_result"
    }
   ],
   "source": [
    "data['TR']['FOM_num_calls']"
   ]
  },
  {
   "cell_type": "code",
   "execution_count": 5,
   "id": "2a1b2526-7e98-4a2d-ac10-c4cd512c214d",
   "metadata": {},
   "outputs": [
    {
     "name": "stderr",
     "output_type": "stream",
     "text": [
      "/tmp/ipykernel_26624/2752217702.py:33: FutureWarning: ChainedAssignmentError: behaviour will change in pandas 3.0!\n",
      "You are setting values through chained assignment. Currently this works in certain cases, but when using Copy-on-Write (which will become the default behaviour in pandas 3.0) this will never work to update the original DataFrame or Series, because the intermediate object on which we are setting values will behave as a copy.\n",
      "A typical example is when you are setting values in a column of a DataFrame, like:\n",
      "\n",
      "df[\"col\"][row_indexer] = value\n",
      "\n",
      "Use `df.loc[row_indexer, \"col\"] = values` instead, to perform the assignment in a single step and ensure this keeps updating the original `df`.\n",
      "\n",
      "See the caveats in the documentation: https://pandas.pydata.org/pandas-docs/stable/user_guide/indexing.html#returning-a-view-versus-a-copy\n",
      "\n",
      "  df['speed up'][1] = df['time [s]'][0] / df['time [s]'][1]\n",
      "/tmp/ipykernel_26624/2752217702.py:33: SettingWithCopyWarning: \n",
      "A value is trying to be set on a copy of a slice from a DataFrame\n",
      "\n",
      "See the caveats in the documentation: https://pandas.pydata.org/pandas-docs/stable/user_guide/indexing.html#returning-a-view-versus-a-copy\n",
      "  df['speed up'][1] = df['time [s]'][0] / df['time [s]'][1]\n"
     ]
    }
   ],
   "source": [
    "import pandas as pd\n",
    "\n",
    "columns = ['Algorithm', 'time [s]', 'speed up', 'FOM solves', r'$n_Q$', r'$n_V$', 'o. iter']\n",
    "\n",
    "rows = []\n",
    "algo = 'FOM'\n",
    "FOM_solves = data[algo]['FOM_num_calls']['solve_state'] + data[algo]['FOM_num_calls']['solve_adjoint'] + \\\n",
    "             data[algo]['FOM_num_calls']['solve_linearized_state'] + data[algo]['FOM_num_calls']['solve_linearized_adjoint']\n",
    "row = [algo,\n",
    "       int(data[algo]['total_runtime'][-1]),\n",
    "       '--',\n",
    "       FOM_solves,\n",
    "       '--',\n",
    "       '--',\n",
    "       len(data[algo]['J'])-1]\n",
    "rows.append(row)\n",
    "\n",
    "algo = 'TR'\n",
    "FOM_solves = data[algo]['FOM_num_calls']['solve_state'] + data[algo]['FOM_num_calls']['solve_adjoint'] + \\\n",
    "             data[algo]['FOM_num_calls']['solve_linearized_state'] + data[algo]['FOM_num_calls']['solve_linearized_adjoint']\n",
    "\n",
    "row = [algo,\n",
    "       int(data[algo]['total_runtime'][-1]),\n",
    "       '--',\n",
    "       FOM_solves,\n",
    "       data[algo]['dim_Q_r'][-1],\n",
    "       data[algo]['dim_V_r'][-1],\n",
    "       len(data[algo]['J'])-1]\n",
    "rows.append(row)\n",
    "\n",
    "\n",
    "df = pd.DataFrame.from_records(rows, columns=columns)\n",
    "df['speed up'][1] = df['time [s]'][0] / df['time [s]'][1]"
   ]
  },
  {
   "cell_type": "code",
   "execution_count": 6,
   "id": "0ba37663-00c2-4e14-9105-d9244ace83bf",
   "metadata": {},
   "outputs": [
    {
     "name": "stdout",
     "output_type": "stream",
     "text": [
      "\\begin{tabular}{l|cccccc}\n",
      "\\toprule\n",
      "Algorithm & time [s] & speed up & FOM solves & $n_Q$ & $n_V$ & o. iter \\\\\n",
      "\\midrule\n",
      "FOM & 30613 & -- & 30168 & -- & -- & 5 \\\\\n",
      "TR & 93250 & 0.33 & 24 & 404 & 664 & 8 \\\\\n",
      "\\bottomrule\n",
      "\\end{tabular}\n",
      "\n"
     ]
    }
   ],
   "source": [
    "print(df.to_latex(index=False, float_format=\"{:.2f}\".format, column_format='l|cccccc'))"
   ]
  },
  {
   "cell_type": "code",
   "execution_count": 9,
   "id": "02eecd1a-f29f-41cd-b9ba-3c0320b3affb",
   "metadata": {},
   "outputs": [
    {
     "data": {
      "text/plain": [
       "3.706166219839142"
      ]
     },
     "execution_count": 9,
     "metadata": {},
     "output_type": "execute_result"
    }
   ],
   "source": [
    "345600 / 93250"
   ]
  },
  {
   "cell_type": "code",
   "execution_count": 7,
   "id": "8042db46-68ca-4196-b15d-d4fa4afa2862",
   "metadata": {},
   "outputs": [
    {
     "data": {
      "text/plain": [
       "345600"
      ]
     },
     "execution_count": 7,
     "metadata": {},
     "output_type": "execute_result"
    }
   ],
   "source": [
    "4*24*60*60"
   ]
  }
 ],
 "metadata": {
  "kernelspec": {
   "display_name": "Python 3 (ipykernel)",
   "language": "python",
   "name": "python3"
  },
  "language_info": {
   "codemirror_mode": {
    "name": "ipython",
    "version": 3
   },
   "file_extension": ".py",
   "mimetype": "text/x-python",
   "name": "python",
   "nbconvert_exporter": "python",
   "pygments_lexer": "ipython3",
   "version": "3.9.21"
  }
 },
 "nbformat": 4,
 "nbformat_minor": 5
}
