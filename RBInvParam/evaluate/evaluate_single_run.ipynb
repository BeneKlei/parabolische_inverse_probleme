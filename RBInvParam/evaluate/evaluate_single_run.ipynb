{
 "cells": [
  {
   "cell_type": "code",
   "execution_count": 1,
   "metadata": {},
   "outputs": [],
   "source": [
    "import numpy as np\n",
    "from pathlib import Path\n",
    "\n",
    "from pymor.basic import *\n",
    "from pymor.core.pickle import load\n",
    "\n",
    "from RBInvParam.problems.problems import build_InstationaryModelIP\n",
    "\n",
    "set_log_levels({\n",
    "    'pymor' : 'WARN'\n",
    "})\n",
    "\n",
    "set_defaults({})\n"
   ]
  },
  {
   "cell_type": "code",
   "execution_count": 2,
   "metadata": {},
   "outputs": [],
   "source": [
    "import matplotlib as mpl\n",
    "import matplotlib.pyplot as plt\n",
    "\n",
    "plt.rcParams.update({\n",
    "    \"text.usetex\": True,\n",
    "    \"font.family\": \"cm\",\n",
    "    \"font.size\": 10,\n",
    "    'text.latex.preamble': r'\\usepackage{amsfonts}',\n",
    "    'figure.dpi': 400\n",
    "})"
   ]
  },
  {
   "cell_type": "code",
   "execution_count": 5,
   "metadata": {
    "scrolled": true
   },
   "outputs": [],
   "source": [
    "#WORK_DIR = Path('/run/media/benedikt/38E84473425D444F/Dokumente/Studium/Mathematik/PhD/parabolische_inverse_probleme')\n",
    "WORK_DIR = Path('/home/benedikt/Dokumente/parabolische_inverse_probleme')\n",
    "\n",
    "method = 'TR_IRGNM'\n",
    "#dump_path = WORK_DIR / Path('examples/diffusion/dumps') / f'20250204_121259_TR_IRGNM'\n",
    "dump_path = WORK_DIR / Path('experiments/initial_testing_palma') / f'reaction_TR_100'\n",
    "\n",
    "setup_path = dump_path / 'setup.pkl'\n",
    "optimizer_parameter_path = dump_path / 'optimizer_parameter.pkl'\n",
    "data_path = dump_path / f'{method}_13.pkl'\n",
    "final_data_path = dump_path / f'{method}_final.pkl'\n",
    "\n",
    "with open(setup_path, 'rb') as file:\n",
    "    setup = load(file)\n",
    "\n",
    "with open(optimizer_parameter_path, 'rb') as file:\n",
    "    optimizer_parameter = load(file)\n",
    "\n",
    "if not 'FOM' in locals():\n",
    "    FOM = build_InstationaryModelIP(setup=setup)\n",
    "\n",
    "q_exact = setup['model_parameter']['q_exact']\n",
    "\n",
    "with open(data_path, 'rb') as file:\n",
    "    data = load(file)\n",
    "\n",
    "\n",
    "if final_data_path.exists():\n",
    "    with open(final_data_path, 'rb') as file:\n",
    "        final_data = load(file)"
   ]
  },
  {
   "cell_type": "code",
   "execution_count": 7,
   "metadata": {},
   "outputs": [
    {
     "data": {
      "text/plain": [
       "{'objective': 16,\n",
       " 'gradient': 16,\n",
       " 'linearized_objective': 0,\n",
       " 'linearized_gradient': 0}"
      ]
     },
     "execution_count": 7,
     "metadata": {},
     "output_type": "execute_result"
    }
   ],
   "source": [
    "data['FOM_num_calls']"
   ]
  },
  {
   "cell_type": "code",
   "execution_count": null,
   "metadata": {},
   "outputs": [],
   "source": [
    "fig, ax = plt.subplots(ncols=2, nrows=1, figsize=(8,3))\n",
    "cmap = plt.get_cmap('viridis')\n",
    "\n",
    "Js = np.array(data['J'])\n",
    "norm_nabla_Js = np.array(data['norm_nabla_J'])\n",
    "assert len(Js) == len(norm_nabla_Js)\n",
    "\n",
    "ax[0].set_xlabel(r'$\\textrm{Main loop index } i$')\n",
    "ax[0].set_ylabel(r'$\\sqrt{2J_h(q^i_h)}$')\n",
    "ax[0].set_yscale('log')\n",
    "ax[0].grid()\n",
    "ax[0].plot(np.sqrt(2 * Js), marker='x',color=cmap(0))\n",
    "\n",
    "tau = optimizer_parameter['tau']\n",
    "noise_level = optimizer_parameter['noise_level']\n",
    "tol = optimizer_parameter['tol']\n",
    "y = tau * noise_level + tol\n",
    "ax[0].axhline(y=y, color='r', linestyle='--')\n",
    "\n",
    "\n",
    "ax[1].set_xlabel(r'$\\textrm{Main loop index } i$')\n",
    "if setup['model_parameter']['q_time_dep']:\n",
    "    ax[1].set_ylabel(r'$\\|\\nabla_q J_h(q^i_h)\\|_{Q^{K}}$')\n",
    "else:\n",
    "    ax[1].set_ylabel(r'$\\|\\nabla_q J_h(q^i_h)\\|_{Q}$')\n",
    "    \n",
    "ax[1].set_yscale('log')\n",
    "ax[1].grid()\n",
    "ax[1].plot(norm_nabla_Js, marker='x',color=cmap(100))\n",
    "##############################\n",
    "\n",
    "\n",
    "plt.tight_layout()\n",
    "plt.show()"
   ]
  },
  {
   "cell_type": "code",
   "execution_count": null,
   "metadata": {},
   "outputs": [],
   "source": [
    "val = data['q'][-1]\n",
    "rel = q_exact\n",
    "\n",
    "if setup['model_parameter']['q_time_dep']:\n",
    "    x = FOM.products['bochner_prod_Q'].apply2(rel-val, rel-val)[0,0]\n",
    "    y = FOM.products['bochner_prod_Q'].apply2(rel, rel)[0,0]\n",
    "else:\n",
    "    x = FOM.products['prod_Q'].apply2(rel-val, rel-val)[0,0]\n",
    "    y = FOM.products['prod_Q'].apply2(rel, rel)[0,0]\n",
    "    \n",
    "z = np.sqrt(x) / np.sqrt(y) * 100\n",
    "print(f\"{z:3.4} %\")"
   ]
  },
  {
   "cell_type": "code",
   "execution_count": null,
   "metadata": {},
   "outputs": [],
   "source": [
    "FOM.visualizer.visualize(data['q'][-1])"
   ]
  }
 ],
 "metadata": {
  "kernelspec": {
   "display_name": "Python 3 (ipykernel)",
   "language": "python",
   "name": "python3"
  },
  "language_info": {
   "codemirror_mode": {
    "name": "ipython",
    "version": 3
   },
   "file_extension": ".py",
   "mimetype": "text/x-python",
   "name": "python",
   "nbconvert_exporter": "python",
   "pygments_lexer": "ipython3",
   "version": "3.9.21"
  }
 },
 "nbformat": 4,
 "nbformat_minor": 4
}
