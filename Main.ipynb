{
 "cells": [
  {
   "cell_type": "code",
   "execution_count": 19,
   "id": "8c1c397d-cbc3-4c33-a814-dd3ee3e77300",
   "metadata": {},
   "outputs": [
    {
     "name": "stdout",
     "output_type": "stream",
     "text": [
      "The autoreload extension is already loaded. To reload it, use:\n",
      "  %reload_ext autoreload\n"
     ]
    }
   ],
   "source": [
    "%load_ext autoreload\n",
    "%autoreload 2\n",
    "\n",
    "import numpy as np\n",
    "from pymor.basic import *\n",
    "from problems import whole_problem\n",
    "from discretizer import discretize_instationary_IP\n",
    "from pymor.parameters.base import ParameterSpace\n",
    "\n",
    "# general options           \n",
    "N = 10                                                                        # FE Dofs = (N+1)^2                                                \n",
    "tol = 1e-14                                                                    # safeguard tolerance\n",
    "tau = 3.5                                                                      # discrepancy parameter\n",
    "k_max = 50                                                                     # maxit\n",
    "noise_level = 1e-5        \n",
    "\n",
    "# choose optimization methods\n",
    "opt_methods = {     \n",
    "              \"Qr IRGNM\",\n",
    "              \"FOM IRGNM\",\n",
    "              \"Qr-Vr TR IRGNM\",\n",
    "               }\n",
    "\n",
    "# choose norm in the parameter space\n",
    "norm_type = 'L2'"
   ]
  },
  {
   "cell_type": "code",
   "execution_count": 20,
   "id": "4139fd34-0477-44b0-933a-4f58e6bc1aed",
   "metadata": {},
   "outputs": [
    {
     "name": "stdout",
     "output_type": "stream",
     "text": [
      "Construct problem..\n"
     ]
    }
   ],
   "source": [
    "print('Construct problem..')                                                     \n",
    "analytical_problem, q_exact, N, problem_type, exact_analytical_problem, energy_problem = whole_problem(\n",
    "                                                        N = N,\n",
    "                                                        parameter_location = 'reaction',\n",
    "                                                        boundary_conditions = 'dirichlet',\n",
    "                                                        exact_parameter = 'Kirchner',\n",
    "                                                       )"
   ]
  },
  {
   "cell_type": "code",
   "execution_count": 21,
   "id": "a7c443b8-4fcd-40b4-b011-a0dbee6dea1d",
   "metadata": {},
   "outputs": [],
   "source": [
    "diameter = np.sqrt(2)/N\n",
    "grid_type = RectGrid\n",
    "low = 0.001                                                                     # lower bound value\n",
    "up = 1e20                                                                       # upper bound value \n",
    "par_dim = (N+1)**2                                                              # dimension of parameter space\n",
    "q_low = low*np.ones((par_dim,))                                                 # lower bound\n",
    "q_up =  up*np.ones((par_dim,))                                                  # upper bound\n",
    "bounds = [q_low, q_up]\n",
    "q0 = 3*np.ones((par_dim,))                                                      # initial guess for IRGNM\n",
    "q_0 =  3*np.ones((par_dim,))                                                    # regularization center for IRGNM\n",
    "opt_data = {'FE_dim': (N+1)**2,                                                 # FE dofs\n",
    "            'par_dim': par_dim,                                                     \n",
    "            'noise_level': noise_level,\n",
    "            'q_exact': q_exact,\n",
    "            'q0': q0,\n",
    "            'q_0': q_0, \n",
    "            'low': low,\n",
    "            'up': up,\n",
    "            'noise_percentage': None,   \n",
    "            'problem_type': problem_type,\n",
    "            'q_in_h1': True,\n",
    "            'norm_on_q': norm_type,\n",
    "            'B_assemble': False,                                                # options to preassemble affine components or not\n",
    "            'bounds': bounds\n",
    "            } \n",
    "\n",
    "# create parameter space\n",
    "parameter_space = ParameterSpace(analytical_problem.parameters, [low,up]) \n"
   ]
  },
  {
   "cell_type": "code",
   "execution_count": 22,
   "id": "87e39564-bbba-43c8-b172-97aa13148ce1",
   "metadata": {},
   "outputs": [
    {
     "name": "stdout",
     "output_type": "stream",
     "text": [
      "Discretizing problem...\n"
     ]
    },
    {
     "data": {
      "application/vnd.jupyter.widget-view+json": {
       "model_id": "99a1e3bf757b4b66885031d18d01957d",
       "version_major": 2,
       "version_minor": 0
      },
      "text/plain": [
       "Accordion(children=(HTML(value='', layout=Layout(height='16em', width='100%')),), titles=('Log Output',))"
      ]
     },
     "metadata": {},
     "output_type": "display_data"
    }
   ],
   "source": [
    "print('Discretizing problem...')                                                \n",
    "primal_fom = discretize_instationary_IP(analytical_problem,\n",
    "                           diameter = diameter,\n",
    "                           opt_data = opt_data,\n",
    "                           exact_analytical_problem = exact_analytical_problem,\n",
    "                           energy_product_problem = energy_problem,\n",
    "                           grid_type = grid_type\n",
    "                           )\n"
   ]
  },
  {
   "cell_type": "code",
   "execution_count": 17,
   "id": "562a352b-3eb7-40e8-9846-f0faaa9fd825",
   "metadata": {},
   "outputs": [
    {
     "name": "stdout",
     "output_type": "stream",
     "text": [
      "A\n"
     ]
    }
   ],
   "source": [
    "print(\"A\")"
   ]
  },
  {
   "cell_type": "code",
   "execution_count": 30,
   "id": "f81bea08-f4fa-4644-ad83-63d29e740d21",
   "metadata": {},
   "outputs": [
    {
     "data": {
      "text/plain": [
       "ConstantFunction(dim_domain=2)"
      ]
     },
     "execution_count": 30,
     "metadata": {},
     "output_type": "execute_result"
    }
   ],
   "source": [
    "analytical_problem.stationary_part.diffusion"
   ]
  },
  {
   "cell_type": "code",
   "execution_count": 37,
   "id": "83ad63e6-650d-4070-946a-9ba43610680e",
   "metadata": {},
   "outputs": [
    {
     "data": {
      "application/vnd.jupyter.widget-view+json": {
       "model_id": "a514d53e84e34ac296a386656c1c0183",
       "version_major": 2,
       "version_minor": 0
      },
      "text/plain": [
       "Accordion(children=(HTML(value='', layout=Layout(height='16em', width='100%')),), titles=('Log Output',))"
      ]
     },
     "metadata": {},
     "output_type": "display_data"
    },
    {
     "data": {
      "text/plain": [
       "NumpyMatrixOperator(<121x121 sparse, 769 nnz>, source_id='STATE', range_id='STATE')"
      ]
     },
     "execution_count": 37,
     "metadata": {},
     "output_type": "execute_result"
    }
   ],
   "source": [
    "q = primal_fom.operator.parameters.parse(np.zeros(121))\n",
    "primal_fom.operator.assemble(q)"
   ]
  },
  {
   "cell_type": "code",
   "execution_count": 35,
   "id": "517e4850-a5f9-4771-9f5d-972dc87d4400",
   "metadata": {},
   "outputs": [
    {
     "data": {
      "text/plain": [
       "Mu({'diffusion': array([0., 0., 0., 0., 0., 0., 0., 0., 0., 0., 0., 0., 0., 0., 0., 0., 0.,\n",
       "       0., 0., 0., 0., 0., 0., 0., 0., 0., 0., 0., 0., 0., 0., 0., 0., 0.,\n",
       "       0., 0., 0., 0., 0., 0., 0., 0., 0., 0., 0., 0., 0., 0., 0., 0., 0.,\n",
       "       0., 0., 0., 0., 0., 0., 0., 0., 0., 0., 0., 0., 0., 0., 0., 0., 0.,\n",
       "       0., 0., 0., 0., 0., 0., 0., 0., 0., 0., 0., 0., 0., 0., 0., 0., 0.,\n",
       "       0., 0., 0., 0., 0., 0., 0., 0., 0., 0., 0., 0., 0., 0., 0., 0., 0.,\n",
       "       0., 0., 0., 0., 0., 0., 0., 0., 0., 0., 0., 0., 0., 0., 0., 0., 0.,\n",
       "       0., 0.])})"
      ]
     },
     "execution_count": 35,
     "metadata": {},
     "output_type": "execute_result"
    }
   ],
   "source": [
    "q"
   ]
  },
  {
   "cell_type": "code",
   "execution_count": 36,
   "id": "b83f6c45-ce61-4ebd-be6d-09bfbe658935",
   "metadata": {},
   "outputs": [
    {
     "data": {
      "text/plain": [
       "ProjectionParameterFunctional('diffusion', size=121, index=0, name='diffusion_0_0')"
      ]
     },
     "execution_count": 36,
     "metadata": {},
     "output_type": "execute_result"
    }
   ],
   "source": [
    "primal_fom.operator.coefficients[2]."
   ]
  }
 ],
 "metadata": {
  "kernelspec": {
   "display_name": "Python 3 (ipykernel)",
   "language": "python",
   "name": "python3"
  },
  "language_info": {
   "codemirror_mode": {
    "name": "ipython",
    "version": 3
   },
   "file_extension": ".py",
   "mimetype": "text/x-python",
   "name": "python",
   "nbconvert_exporter": "python",
   "pygments_lexer": "ipython3",
   "version": "3.12.3"
  }
 },
 "nbformat": 4,
 "nbformat_minor": 5
}
